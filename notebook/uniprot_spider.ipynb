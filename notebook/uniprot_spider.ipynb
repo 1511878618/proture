{
 "cells": [
  {
   "cell_type": "code",
   "execution_count": 1,
   "metadata": {},
   "outputs": [],
   "source": [
    "import requests\n",
    "import json \n",
    "from lxml import etree\n",
    "from bs4 import BeautifulSoup"
   ]
  },
  {
   "cell_type": "code",
   "execution_count": 2,
   "metadata": {},
   "outputs": [],
   "source": [
    "header = {\"Referer\": \"https://www.uniprot.org/\",\n",
    "\"sec-ch-ua-platform\": \"Windows\",\n",
    "}\n",
    "\n",
    "\n",
    "UniProt_Accession = \"Q99933\"\n",
    "baseurl = f\"https://www.uniprot.org/uniprotkb/{UniProt_Accession}/entry#sequences\"\n",
    "\n"
   ]
  },
  {
   "cell_type": "code",
   "execution_count": 5,
   "metadata": {},
   "outputs": [
    {
     "name": "stdout",
     "output_type": "stream",
     "text": [
      "https://www.uniprot.org/uniprotkb/Q99933/entry#sequences\n"
     ]
    }
   ],
   "source": [
    "print(baseurl)"
   ]
  },
  {
   "cell_type": "code",
   "execution_count": 3,
   "metadata": {},
   "outputs": [
    {
     "data": {
      "text/plain": [
       "<!DOCTYPE html>\n",
       "<html lang=\"en\"><head><meta charset=\"utf-8\"/><title>UniProt</title><meta content=\"width=device-width,initial-scale=1\" name=\"viewport\"/><meta content=\"#00639a\" name=\"theme-color\"/><link href=\"/apple-touch-icon.png\" rel=\"apple-touch-icon\" sizes=\"180x180\"/><link href=\"/mstile-144x144.png\" rel=\"shortcut icon\" sizes=\"144x144\" type=\"image/png\"/><link href=\"/favicon-32x32.png\" rel=\"icon\" sizes=\"32x32\" type=\"image/png\"/><link href=\"/favicon-16x16.png\" rel=\"icon\" sizes=\"16x16\" type=\"image/png\"/><link href=\"/manifest.json\" rel=\"manifest\"/><link href=\"https://fonts.gstatic.com/\" rel=\"preconnect\"/><link href=\"https://rest.uniprot.org/\" rel=\"preconnect\"/><link as=\"style\" href=\"https://fonts.googleapis.com/css?family=Lato:400,700|Source+Sans+Pro:600,700&amp;display=swap\" rel=\"preload\"/><script async=\"\" src=\"https://www.googletagmanager.com/gtag/js?id=UA-6228219-1\"></script><script>window.dataLayer = window.dataLayer || [];\n",
       "      function gtag() {\n",
       "        dataLayer.push(arguments);\n",
       "      }\n",
       "      gtag('js', new Date());\n",
       "\n",
       "      gtag('config', 'UA-6228219-1', {\n",
       "        anonymize_ip: true,\n",
       "        allow_google_signals: false,\n",
       "        allow_ad_personalization_signals: false,\n",
       "        restricted_data_processing: true,\n",
       "        custom_map: {\n",
       "          dimension1: 'result_view',\n",
       "          metric1: 'result_view_set',\n",
       "        },\n",
       "        send_page_view: false,\n",
       "      });</script><script>(function (h, o, t, j, a, r) {\n",
       "        h.hj =\n",
       "          h.hj ||\n",
       "          function () {\n",
       "            (h.hj.q = h.hj.q || []).push(arguments);\n",
       "          };\n",
       "        h._hjSettings = { hjid: 2638207, hjsv: 6 };\n",
       "        a = o.getElementsByTagName('head')[0];\n",
       "        r = o.createElement('script');\n",
       "        r.async = 1;\n",
       "        r.src = t + h._hjSettings.hjid + j + h._hjSettings.hjsv;\n",
       "        a.appendChild(r);\n",
       "      })(window, document, 'https://static.hotjar.com/c/hotjar-', '.js?sv=');</script><style>#root > .fallback {\n",
       "        height: 90vh;\n",
       "        display: flex;\n",
       "        align-items: center;\n",
       "        justify-content: center;\n",
       "        opacity: 0;\n",
       "        animation: fallback-appear 1s 1 10s both;\n",
       "      }\n",
       "\n",
       "      #root > .fallback > div {\n",
       "        max-width: 60ch;\n",
       "      }\n",
       "\n",
       "      #root > .fallback li {\n",
       "        margin-bottom: 1em;\n",
       "      }\n",
       "\n",
       "      @keyframes fallback-appear {\n",
       "        from {\n",
       "          opacity: 0;\n",
       "        }\n",
       "        to {\n",
       "          opacity: 1;\n",
       "        }\n",
       "      }</style><script defer=\"defer\" src=\"/app.d4b6f6.js\"></script><script defer=\"defer\" src=\"/app.f0e847.js\"></script><script defer=\"defer\" src=\"/app.a482ef.js\"></script><script defer=\"defer\" src=\"/app.301a73.js\"></script><script defer=\"defer\" src=\"/app.73f38a.js\"></script><link href=\"/3774.e2d8d7.css\" rel=\"stylesheet\"/><link href=\"/main.bbe47a.css\" rel=\"stylesheet\"/></head><body><div id=\"root\"><div class=\"fallback\" data-nosnippet=\"\"><div><h1>UniProt website fallback message</h1>If you are not seeing anything on this page, it might be for multiple reasons:<ul><li><strong>You might have JavaScript disabled</strong>: make sure to enable JavaScript on your browser, or use a browser that supports JavaScript.</li><li><strong>You might have an outdated browser</strong>: make sure that your browser is up to date as older versions might not work with the new website.</li><li><strong>There might have been a network issue</strong>: ensure that your connectivity is stable and try to reload the page to see if it solves the issue. <button onclick=\"location.reload();\">Reload this page</button></li></ul></div></div></div></body></html>"
      ]
     },
     "execution_count": 3,
     "metadata": {},
     "output_type": "execute_result"
    }
   ],
   "source": [
    "res = requests.get(baseurl, headers=header)\n",
    "\n",
    "soup = BeautifulSoup(res.text, \"html.parser\")\n",
    "soup"
   ]
  },
  {
   "cell_type": "code",
   "execution_count": 22,
   "metadata": {},
   "outputs": [
    {
     "data": {
      "text/plain": [
       "[]"
      ]
     },
     "execution_count": 22,
     "metadata": {},
     "output_type": "execute_result"
    }
   ],
   "source": [
    "soup.find_all(\"section\", id=\"sequences\")"
   ]
  },
  {
   "cell_type": "code",
   "execution_count": 21,
   "metadata": {},
   "outputs": [],
   "source": [
    "soup.find_all(\"body\").find(\"section\", id=\"sequences\")"
   ]
  },
  {
   "cell_type": "code",
   "execution_count": null,
   "metadata": {},
   "outputs": [],
   "source": []
  },
  {
   "cell_type": "code",
   "execution_count": null,
   "metadata": {},
   "outputs": [],
   "source": []
  }
 ],
 "metadata": {
  "kernelspec": {
   "display_name": "Python 3.9.5 ('base')",
   "language": "python",
   "name": "python3"
  },
  "language_info": {
   "codemirror_mode": {
    "name": "ipython",
    "version": 3
   },
   "file_extension": ".py",
   "mimetype": "text/x-python",
   "name": "python",
   "nbconvert_exporter": "python",
   "pygments_lexer": "ipython3",
   "version": "3.9.5"
  },
  "orig_nbformat": 4,
  "vscode": {
   "interpreter": {
    "hash": "827c639bfb273c314f87d87c4a2cf724b09a6f3f97e86f35e7e8d2f9b0015d76"
   }
  }
 },
 "nbformat": 4,
 "nbformat_minor": 2
}
