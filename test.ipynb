{
 "cells": [],
 "metadata": {
  "kernelspec": {
   "display_name": "Python 3.8.12 ('bio')",
   "language": "python",
   "name": "python3"
  },
  "language_info": {
   "codemirror_mode": {
    "name": "ipython",
    "version": 3
   },
   "file_extension": ".py",
   "mimetype": "text/x-python",
   "name": "python",
   "nbconvert_exporter": "python",
   "pygments_lexer": "ipython3",
   "version": "3.8.12"
  },
  "orig_nbformat": 4,
  "vscode": {
   "interpreter": {
    "hash": "fe7085b847b6bde97ad6d372411e58e4bf0dec51925e468a68eb919722f1d639"
   }
  }
 },
 "nbformat": 4,
 "nbformat_minor": 2
}
